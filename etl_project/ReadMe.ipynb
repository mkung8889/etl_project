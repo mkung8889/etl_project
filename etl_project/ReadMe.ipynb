{
 "cells": [
  {
   "cell_type": "markdown",
   "metadata": {},
   "source": [
    "# ETL : Extract, Transform, Load Project:\n",
    "__Extract:__ read the data, often from mupltiple sources/formats.\n",
    "\n",
    "__Transform:__ clean and structure the data to suit business needs.\n",
    "\n",
    "__Load:__ load the data into a database for storage that can be used for future analysis or business use.\n",
    "\n",
    "\n",
    "#### Members:  __[Kristen](https://github.com/KCDataVis)__ __[Mary](https://github.com/marygong75)__ __[Michael](https://github.com/mkung8889)__\n",
    "\n",
    "__[Project Repo](https://github.com/mkung8889/etl_project)__\n",
    "\n",
    "\n",
    "###  Objective: \n",
    "##### Each of us chose (2) data sources to analyze different international energy sources consumed annually over the years.\n",
    "\n",
    "#### Data Sources Used: \n",
    "> 1) __[UN Data Total Electicity Consumption](*link*)__ \n",
    "\n",
    "> 2)__[EIA Electricity Consumption By State](*link*)__ \n",
    "\n",
    "> 3)__[EIA Natural Gas Consumption](*link*)__\n",
    "\n",
    "> 4)__[UN Data Natural Gas Consumption](*link*)__\n",
    "\n",
    "> 5) __[Enerdats World Oil Consumption](https://yearbook.enerdata.net/oil-products/world-oil-domestic-consumption-statistics.html)__\n",
    "\n",
    "> 6)__[EIA International Coal Consumption](https://www.eia.gov/beta/international/data/browser/#/?pa=0000000000000000000000000000000000000000000000000000000000g&c=ruvvvvvfvtvnvv1vrvvvvfvvvvvvfvvvou20evvvvvvvvvvvvuvs&ct=0&vs=INTL.4411-2-AFG-QBTU.A&vo=0&v=H&start=1990&end=2016)__\n",
    "\n"
   ]
  },
  {
   "cell_type": "code",
   "execution_count": null,
   "metadata": {},
   "outputs": [],
   "source": []
  }
 ],
 "metadata": {
  "kernelspec": {
   "display_name": "Python[conda env: KCDataVis]",
   "language": "python",
   "name": "env"
  },
  "language_info": {
   "codemirror_mode": {
    "name": "ipython",
    "version": 3
   },
   "file_extension": ".py",
   "mimetype": "text/x-python",
   "name": "python",
   "nbconvert_exporter": "python",
   "pygments_lexer": "ipython3",
   "version": "3.6.7"
  }
 },
 "nbformat": 4,
 "nbformat_minor": 2
}
