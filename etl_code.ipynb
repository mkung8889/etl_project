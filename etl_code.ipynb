{
 "cells": [
  {
   "cell_type": "code",
   "execution_count": 11,
   "metadata": {},
   "outputs": [],
   "source": [
    "import pandas as pd\n",
    "from sqlalchemy import create_engine\n",
    "from functions import list_countries_un\n"
   ]
  },
  {
   "cell_type": "code",
   "execution_count": 12,
   "metadata": {},
   "outputs": [],
   "source": [
    "import pymysql\n",
    "pymysql.install_as_MySQLdb()"
   ]
  },
  {
   "cell_type": "markdown",
   "metadata": {},
   "source": [
    "<strong>Solar/Electricity: </strong>"
   ]
  },
  {
   "cell_type": "code",
   "execution_count": 15,
   "metadata": {},
   "outputs": [
    {
     "data": {
      "text/html": [
       "<div>\n",
       "<style scoped>\n",
       "    .dataframe tbody tr th:only-of-type {\n",
       "        vertical-align: middle;\n",
       "    }\n",
       "\n",
       "    .dataframe tbody tr th {\n",
       "        vertical-align: top;\n",
       "    }\n",
       "\n",
       "    .dataframe thead th {\n",
       "        text-align: right;\n",
       "    }\n",
       "</style>\n",
       "<table border=\"1\" class=\"dataframe\">\n",
       "  <thead>\n",
       "    <tr style=\"text-align: right;\">\n",
       "      <th></th>\n",
       "      <th>Country or Area</th>\n",
       "      <th>Commodity - Transaction</th>\n",
       "      <th>Year</th>\n",
       "      <th>Unit</th>\n",
       "      <th>Quantity</th>\n",
       "      <th>Quantity Footnotes</th>\n",
       "    </tr>\n",
       "  </thead>\n",
       "  <tbody>\n",
       "    <tr>\n",
       "      <th>0</th>\n",
       "      <td>Afghanistan</td>\n",
       "      <td>Electricity - Gross production</td>\n",
       "      <td>2017.0</td>\n",
       "      <td>Kilowatt-hours, million</td>\n",
       "      <td>1098.2</td>\n",
       "      <td>1.0</td>\n",
       "    </tr>\n",
       "    <tr>\n",
       "      <th>1</th>\n",
       "      <td>Afghanistan</td>\n",
       "      <td>Electricity - Gross production</td>\n",
       "      <td>2016.0</td>\n",
       "      <td>Kilowatt-hours, million</td>\n",
       "      <td>1076.3</td>\n",
       "      <td>1.0</td>\n",
       "    </tr>\n",
       "    <tr>\n",
       "      <th>2</th>\n",
       "      <td>Afghanistan</td>\n",
       "      <td>Electricity - Gross production</td>\n",
       "      <td>2015.0</td>\n",
       "      <td>Kilowatt-hours, million</td>\n",
       "      <td>1033.7</td>\n",
       "      <td>1.0</td>\n",
       "    </tr>\n",
       "    <tr>\n",
       "      <th>3</th>\n",
       "      <td>Afghanistan</td>\n",
       "      <td>Electricity - Gross production</td>\n",
       "      <td>2014.0</td>\n",
       "      <td>Kilowatt-hours, million</td>\n",
       "      <td>1049.3</td>\n",
       "      <td>1.0</td>\n",
       "    </tr>\n",
       "    <tr>\n",
       "      <th>4</th>\n",
       "      <td>Afghanistan</td>\n",
       "      <td>Electricity - Gross production</td>\n",
       "      <td>2013.0</td>\n",
       "      <td>Kilowatt-hours, million</td>\n",
       "      <td>1022.3</td>\n",
       "      <td>1.0</td>\n",
       "    </tr>\n",
       "  </tbody>\n",
       "</table>\n",
       "</div>"
      ],
      "text/plain": [
       "  Country or Area         Commodity - Transaction    Year  \\\n",
       "0     Afghanistan  Electricity - Gross production  2017.0   \n",
       "1     Afghanistan  Electricity - Gross production  2016.0   \n",
       "2     Afghanistan  Electricity - Gross production  2015.0   \n",
       "3     Afghanistan  Electricity - Gross production  2014.0   \n",
       "4     Afghanistan  Electricity - Gross production  2013.0   \n",
       "\n",
       "                      Unit  Quantity  Quantity Footnotes  \n",
       "0  Kilowatt-hours, million    1098.2                 1.0  \n",
       "1  Kilowatt-hours, million    1076.3                 1.0  \n",
       "2  Kilowatt-hours, million    1033.7                 1.0  \n",
       "3  Kilowatt-hours, million    1049.3                 1.0  \n",
       "4  Kilowatt-hours, million    1022.3                 1.0  "
      ]
     },
     "execution_count": 15,
     "metadata": {},
     "output_type": "execute_result"
    }
   ],
   "source": [
    "un_solar_csv = \"Resources/UNdata_total_electricity.csv\"\n",
    "df = pd.read_csv(un_solar_csv)\n",
    "df.head()"
   ]
  },
  {
   "cell_type": "code",
   "execution_count": 16,
   "metadata": {},
   "outputs": [],
   "source": [
    "electric_country_list = list_countries_un(df)"
   ]
  },
  {
   "cell_type": "code",
   "execution_count": 17,
   "metadata": {},
   "outputs": [
    {
     "data": {
      "text/html": [
       "<div>\n",
       "<style scoped>\n",
       "    .dataframe tbody tr th:only-of-type {\n",
       "        vertical-align: middle;\n",
       "    }\n",
       "\n",
       "    .dataframe tbody tr th {\n",
       "        vertical-align: top;\n",
       "    }\n",
       "\n",
       "    .dataframe thead th {\n",
       "        text-align: right;\n",
       "    }\n",
       "</style>\n",
       "<table border=\"1\" class=\"dataframe\">\n",
       "  <thead>\n",
       "    <tr style=\"text-align: right;\">\n",
       "      <th></th>\n",
       "      <th>country_name</th>\n",
       "    </tr>\n",
       "  </thead>\n",
       "  <tbody>\n",
       "    <tr>\n",
       "      <th>0</th>\n",
       "      <td>Afghanistan</td>\n",
       "    </tr>\n",
       "    <tr>\n",
       "      <th>1</th>\n",
       "      <td>Albania</td>\n",
       "    </tr>\n",
       "    <tr>\n",
       "      <th>2</th>\n",
       "      <td>Algeria</td>\n",
       "    </tr>\n",
       "    <tr>\n",
       "      <th>3</th>\n",
       "      <td>American Samoa</td>\n",
       "    </tr>\n",
       "    <tr>\n",
       "      <th>4</th>\n",
       "      <td>Andorra</td>\n",
       "    </tr>\n",
       "  </tbody>\n",
       "</table>\n",
       "</div>"
      ],
      "text/plain": [
       "     country_name\n",
       "0     Afghanistan\n",
       "1         Albania\n",
       "2         Algeria\n",
       "3  American Samoa\n",
       "4         Andorra"
      ]
     },
     "execution_count": 17,
     "metadata": {},
     "output_type": "execute_result"
    }
   ],
   "source": [
    "electric_country_list.head()"
   ]
  },
  {
   "cell_type": "code",
   "execution_count": 7,
   "metadata": {},
   "outputs": [],
   "source": [
    "rds_connection_string = \"root:64535864@localhost/energy_db\"\n",
    "engine = create_engine(f'mysql://{rds_connection_string}')"
   ]
  },
  {
   "cell_type": "code",
   "execution_count": 8,
   "metadata": {},
   "outputs": [
    {
     "data": {
      "text/plain": [
       "['country', 'solar_energy']"
      ]
     },
     "execution_count": 8,
     "metadata": {},
     "output_type": "execute_result"
    }
   ],
   "source": [
    "engine.table_names()"
   ]
  },
  {
   "cell_type": "code",
   "execution_count": 18,
   "metadata": {},
   "outputs": [
    {
     "ename": "NameError",
     "evalue": "name 'engine' is not defined",
     "output_type": "error",
     "traceback": [
      "\u001b[1;31m---------------------------------------------------------------------------\u001b[0m",
      "\u001b[1;31mNameError\u001b[0m                                 Traceback (most recent call last)",
      "\u001b[1;32m<ipython-input-18-839166ebbca9>\u001b[0m in \u001b[0;36m<module>\u001b[1;34m()\u001b[0m\n\u001b[1;32m----> 1\u001b[1;33m \u001b[0melectric_country_list\u001b[0m\u001b[1;33m.\u001b[0m\u001b[0mto_sql\u001b[0m\u001b[1;33m(\u001b[0m\u001b[1;34m'country'\u001b[0m\u001b[1;33m,\u001b[0m \u001b[0mcon\u001b[0m\u001b[1;33m=\u001b[0m\u001b[0mengine\u001b[0m\u001b[1;33m,\u001b[0m \u001b[0mif_exists\u001b[0m\u001b[1;33m=\u001b[0m\u001b[1;34m'append'\u001b[0m\u001b[1;33m,\u001b[0m \u001b[0mindex\u001b[0m\u001b[1;33m=\u001b[0m\u001b[1;32mFalse\u001b[0m\u001b[1;33m)\u001b[0m\u001b[1;33m\u001b[0m\u001b[0m\n\u001b[0m",
      "\u001b[1;31mNameError\u001b[0m: name 'engine' is not defined"
     ]
    }
   ],
   "source": [
    "electric_country_list.to_sql('country', con=engine, if_exists='append', index=False)"
   ]
  },
  {
   "cell_type": "code",
   "execution_count": 19,
   "metadata": {},
   "outputs": [],
   "source": [
    "un_electic_df = df[['Country or Area', 'Commodity - Transaction', 'Year', 'Unit', 'Quantity']]"
   ]
  },
  {
   "cell_type": "code",
   "execution_count": 21,
   "metadata": {},
   "outputs": [],
   "source": [
    "un_electic_df = un_electic_df.rename(columns={\n",
    "    'Country or Area': 'country',\n",
    "    'Commodity - Transaction': 'commodity_transaction',\n",
    "    'Year': 'year',\n",
    "    'Unit': 'unit',\n",
    "    'Quantity': 'quantity'\n",
    "})"
   ]
  },
  {
   "cell_type": "code",
   "execution_count": 22,
   "metadata": {},
   "outputs": [],
   "source": [
    "un_electic_df = un_electic_df.dropna()"
   ]
  },
  {
   "cell_type": "code",
   "execution_count": 12,
   "metadata": {},
   "outputs": [],
   "source": [
    "un_electic_df.to_sql(name='un_total_electric_energy', con=engine, if_exists='append', index=False)"
   ]
  },
  {
   "cell_type": "code",
   "execution_count": 13,
   "metadata": {},
   "outputs": [],
   "source": [
    "eia_electric_csv = 'Resources/electric.csv'"
   ]
  },
  {
   "cell_type": "code",
   "execution_count": 14,
   "metadata": {},
   "outputs": [],
   "source": [
    "df_electric = pd.read_csv(eia_electric_csv)"
   ]
  },
  {
   "cell_type": "code",
   "execution_count": 17,
   "metadata": {},
   "outputs": [
    {
     "data": {
      "text/html": [
       "<div>\n",
       "<style scoped>\n",
       "    .dataframe tbody tr th:only-of-type {\n",
       "        vertical-align: middle;\n",
       "    }\n",
       "\n",
       "    .dataframe tbody tr th {\n",
       "        vertical-align: top;\n",
       "    }\n",
       "\n",
       "    .dataframe thead th {\n",
       "        text-align: right;\n",
       "    }\n",
       "</style>\n",
       "<table border=\"1\" class=\"dataframe\">\n",
       "  <thead>\n",
       "    <tr style=\"text-align: right;\">\n",
       "      <th></th>\n",
       "      <th>Table 5.4.B. Sales of Electricity to Ultimate Customers by End-Use Sector,</th>\n",
       "      <th>Unnamed: 1</th>\n",
       "      <th>Unnamed: 2</th>\n",
       "      <th>Unnamed: 3</th>\n",
       "      <th>Unnamed: 4</th>\n",
       "      <th>Unnamed: 5</th>\n",
       "      <th>Unnamed: 6</th>\n",
       "      <th>Unnamed: 7</th>\n",
       "      <th>Unnamed: 8</th>\n",
       "      <th>Unnamed: 9</th>\n",
       "      <th>Unnamed: 10</th>\n",
       "    </tr>\n",
       "  </thead>\n",
       "  <tbody>\n",
       "    <tr>\n",
       "      <th>0</th>\n",
       "      <td>by State, Year-to-Date through November 2018 a...</td>\n",
       "      <td>NaN</td>\n",
       "      <td>NaN</td>\n",
       "      <td>NaN</td>\n",
       "      <td>NaN</td>\n",
       "      <td>NaN</td>\n",
       "      <td>NaN</td>\n",
       "      <td>NaN</td>\n",
       "      <td>NaN</td>\n",
       "      <td>NaN</td>\n",
       "      <td>NaN</td>\n",
       "    </tr>\n",
       "    <tr>\n",
       "      <th>1</th>\n",
       "      <td>NaN</td>\n",
       "      <td>Residential</td>\n",
       "      <td>NaN</td>\n",
       "      <td>Commercial</td>\n",
       "      <td>NaN</td>\n",
       "      <td>Industrial</td>\n",
       "      <td>NaN</td>\n",
       "      <td>Transportation</td>\n",
       "      <td>NaN</td>\n",
       "      <td>All Sectors</td>\n",
       "      <td>NaN</td>\n",
       "    </tr>\n",
       "    <tr>\n",
       "      <th>2</th>\n",
       "      <td>Census Division\\nand State</td>\n",
       "      <td>November 2018 YTD</td>\n",
       "      <td>November 2017 YTD</td>\n",
       "      <td>November 2018 YTD</td>\n",
       "      <td>November 2017 YTD</td>\n",
       "      <td>November 2018 YTD</td>\n",
       "      <td>November 2017 YTD</td>\n",
       "      <td>November 2018 YTD</td>\n",
       "      <td>November 2017 YTD</td>\n",
       "      <td>November 2018 YTD</td>\n",
       "      <td>November 2017 YTD</td>\n",
       "    </tr>\n",
       "    <tr>\n",
       "      <th>3</th>\n",
       "      <td>New England</td>\n",
       "      <td>43,722</td>\n",
       "      <td>41,436</td>\n",
       "      <td>48,097</td>\n",
       "      <td>47,818</td>\n",
       "      <td>14,751</td>\n",
       "      <td>15,508</td>\n",
       "      <td>520</td>\n",
       "      <td>502</td>\n",
       "      <td>107,090</td>\n",
       "      <td>105,264</td>\n",
       "    </tr>\n",
       "    <tr>\n",
       "      <th>4</th>\n",
       "      <td>Connecticut</td>\n",
       "      <td>11,882</td>\n",
       "      <td>11,141</td>\n",
       "      <td>11,391</td>\n",
       "      <td>11,313</td>\n",
       "      <td>2,836</td>\n",
       "      <td>2,993</td>\n",
       "      <td>178</td>\n",
       "      <td>162</td>\n",
       "      <td>26,287</td>\n",
       "      <td>25,609</td>\n",
       "    </tr>\n",
       "  </tbody>\n",
       "</table>\n",
       "</div>"
      ],
      "text/plain": [
       "  Table 5.4.B. Sales of Electricity to Ultimate Customers by End-Use Sector,  \\\n",
       "0  by State, Year-to-Date through November 2018 a...                           \n",
       "1                                                NaN                           \n",
       "2                         Census Division\\nand State                           \n",
       "3                                        New England                           \n",
       "4                                        Connecticut                           \n",
       "\n",
       "          Unnamed: 1         Unnamed: 2         Unnamed: 3         Unnamed: 4  \\\n",
       "0                NaN                NaN                NaN                NaN   \n",
       "1        Residential                NaN         Commercial                NaN   \n",
       "2  November 2018 YTD  November 2017 YTD  November 2018 YTD  November 2017 YTD   \n",
       "3             43,722             41,436             48,097             47,818   \n",
       "4             11,882             11,141             11,391             11,313   \n",
       "\n",
       "          Unnamed: 5         Unnamed: 6         Unnamed: 7         Unnamed: 8  \\\n",
       "0                NaN                NaN                NaN                NaN   \n",
       "1         Industrial                NaN     Transportation                NaN   \n",
       "2  November 2018 YTD  November 2017 YTD  November 2018 YTD  November 2017 YTD   \n",
       "3             14,751             15,508                520                502   \n",
       "4              2,836              2,993                178                162   \n",
       "\n",
       "          Unnamed: 9        Unnamed: 10  \n",
       "0                NaN                NaN  \n",
       "1        All Sectors                NaN  \n",
       "2  November 2018 YTD  November 2017 YTD  \n",
       "3            107,090            105,264  \n",
       "4             26,287             25,609  "
      ]
     },
     "execution_count": 17,
     "metadata": {},
     "output_type": "execute_result"
    }
   ],
   "source": [
    "df_electric.head()"
   ]
  },
  {
   "cell_type": "code",
   "execution_count": 35,
   "metadata": {},
   "outputs": [],
   "source": [
    "df_electric['country'] = 'United States'"
   ]
  },
  {
   "cell_type": "code",
   "execution_count": 94,
   "metadata": {},
   "outputs": [],
   "source": [
    "renamed_df_electric = df_electric.rename(columns={\n",
    "    'Table 5.4.B. Sales of Electricity to Ultimate Customers by End-Use Sector,': 'division_state',\n",
    "    'Unnamed: 1': 'resident_nov_2018',\n",
    "    'Unnamed: 2': 'resident_nov_2017',\n",
    "    'Unnamed: 3': 'comm_nov_2018',\n",
    "    'Unnamed: 4': 'comm_nov_2017',\n",
    "    'Unnamed: 5': 'indust_nov_2018',\n",
    "    'Unnamed: 6': 'indust_nov_2017',\n",
    "    'Unnamed: 7': 'trans_nov_2018',\n",
    "    'Unnamed: 8': 'trans_nov_2017',\n",
    "    'Unnamed: 9': 'all_sect_nov_2018',\n",
    "    'Unnamed: 10': 'all_sect_nov_2017',\n",
    "})"
   ]
  },
  {
   "cell_type": "code",
   "execution_count": 95,
   "metadata": {},
   "outputs": [
    {
     "data": {
      "text/html": [
       "<div>\n",
       "<style scoped>\n",
       "    .dataframe tbody tr th:only-of-type {\n",
       "        vertical-align: middle;\n",
       "    }\n",
       "\n",
       "    .dataframe tbody tr th {\n",
       "        vertical-align: top;\n",
       "    }\n",
       "\n",
       "    .dataframe thead th {\n",
       "        text-align: right;\n",
       "    }\n",
       "</style>\n",
       "<table border=\"1\" class=\"dataframe\">\n",
       "  <thead>\n",
       "    <tr style=\"text-align: right;\">\n",
       "      <th></th>\n",
       "      <th>division_state</th>\n",
       "      <th>resident_nov_2018</th>\n",
       "      <th>resident_nov_2017</th>\n",
       "      <th>comm_nov_2018</th>\n",
       "      <th>comm_nov_2017</th>\n",
       "      <th>indust_nov_2018</th>\n",
       "      <th>indust_nov_2017</th>\n",
       "      <th>trans_nov_2018</th>\n",
       "      <th>trans_nov_2017</th>\n",
       "      <th>all_sect_nov_2018</th>\n",
       "      <th>all_sect_nov_2017</th>\n",
       "      <th>country</th>\n",
       "    </tr>\n",
       "  </thead>\n",
       "  <tbody>\n",
       "    <tr>\n",
       "      <th>0</th>\n",
       "      <td>by State, Year-to-Date through November 2018 a...</td>\n",
       "      <td>NaN</td>\n",
       "      <td>NaN</td>\n",
       "      <td>NaN</td>\n",
       "      <td>NaN</td>\n",
       "      <td>NaN</td>\n",
       "      <td>NaN</td>\n",
       "      <td>NaN</td>\n",
       "      <td>NaN</td>\n",
       "      <td>NaN</td>\n",
       "      <td>NaN</td>\n",
       "      <td>United States</td>\n",
       "    </tr>\n",
       "    <tr>\n",
       "      <th>1</th>\n",
       "      <td>NaN</td>\n",
       "      <td>Residential</td>\n",
       "      <td>NaN</td>\n",
       "      <td>Commercial</td>\n",
       "      <td>NaN</td>\n",
       "      <td>Industrial</td>\n",
       "      <td>NaN</td>\n",
       "      <td>Transportation</td>\n",
       "      <td>NaN</td>\n",
       "      <td>All Sectors</td>\n",
       "      <td>NaN</td>\n",
       "      <td>United States</td>\n",
       "    </tr>\n",
       "    <tr>\n",
       "      <th>2</th>\n",
       "      <td>Census Division\\nand State</td>\n",
       "      <td>November 2018 YTD</td>\n",
       "      <td>November 2017 YTD</td>\n",
       "      <td>November 2018 YTD</td>\n",
       "      <td>November 2017 YTD</td>\n",
       "      <td>November 2018 YTD</td>\n",
       "      <td>November 2017 YTD</td>\n",
       "      <td>November 2018 YTD</td>\n",
       "      <td>November 2017 YTD</td>\n",
       "      <td>November 2018 YTD</td>\n",
       "      <td>November 2017 YTD</td>\n",
       "      <td>United States</td>\n",
       "    </tr>\n",
       "    <tr>\n",
       "      <th>3</th>\n",
       "      <td>New England</td>\n",
       "      <td>43,722</td>\n",
       "      <td>41,436</td>\n",
       "      <td>48,097</td>\n",
       "      <td>47,818</td>\n",
       "      <td>14,751</td>\n",
       "      <td>15,508</td>\n",
       "      <td>520</td>\n",
       "      <td>502</td>\n",
       "      <td>107,090</td>\n",
       "      <td>105,264</td>\n",
       "      <td>United States</td>\n",
       "    </tr>\n",
       "    <tr>\n",
       "      <th>4</th>\n",
       "      <td>Connecticut</td>\n",
       "      <td>11,882</td>\n",
       "      <td>11,141</td>\n",
       "      <td>11,391</td>\n",
       "      <td>11,313</td>\n",
       "      <td>2,836</td>\n",
       "      <td>2,993</td>\n",
       "      <td>178</td>\n",
       "      <td>162</td>\n",
       "      <td>26,287</td>\n",
       "      <td>25,609</td>\n",
       "      <td>United States</td>\n",
       "    </tr>\n",
       "  </tbody>\n",
       "</table>\n",
       "</div>"
      ],
      "text/plain": [
       "                                      division_state  resident_nov_2018  \\\n",
       "0  by State, Year-to-Date through November 2018 a...                NaN   \n",
       "1                                                NaN        Residential   \n",
       "2                         Census Division\\nand State  November 2018 YTD   \n",
       "3                                        New England             43,722   \n",
       "4                                        Connecticut             11,882   \n",
       "\n",
       "   resident_nov_2017      comm_nov_2018      comm_nov_2017    indust_nov_2018  \\\n",
       "0                NaN                NaN                NaN                NaN   \n",
       "1                NaN         Commercial                NaN         Industrial   \n",
       "2  November 2017 YTD  November 2018 YTD  November 2017 YTD  November 2018 YTD   \n",
       "3             41,436             48,097             47,818             14,751   \n",
       "4             11,141             11,391             11,313              2,836   \n",
       "\n",
       "     indust_nov_2017     trans_nov_2018     trans_nov_2017  all_sect_nov_2018  \\\n",
       "0                NaN                NaN                NaN                NaN   \n",
       "1                NaN     Transportation                NaN        All Sectors   \n",
       "2  November 2017 YTD  November 2018 YTD  November 2017 YTD  November 2018 YTD   \n",
       "3             15,508                520                502            107,090   \n",
       "4              2,993                178                162             26,287   \n",
       "\n",
       "   all_sect_nov_2017        country  \n",
       "0                NaN  United States  \n",
       "1                NaN  United States  \n",
       "2  November 2017 YTD  United States  \n",
       "3            105,264  United States  \n",
       "4             25,609  United States  "
      ]
     },
     "execution_count": 95,
     "metadata": {},
     "output_type": "execute_result"
    }
   ],
   "source": [
    "renamed_df_electric.head()"
   ]
  },
  {
   "cell_type": "code",
   "execution_count": 96,
   "metadata": {},
   "outputs": [
    {
     "data": {
      "text/html": [
       "<div>\n",
       "<style scoped>\n",
       "    .dataframe tbody tr th:only-of-type {\n",
       "        vertical-align: middle;\n",
       "    }\n",
       "\n",
       "    .dataframe tbody tr th {\n",
       "        vertical-align: top;\n",
       "    }\n",
       "\n",
       "    .dataframe thead th {\n",
       "        text-align: right;\n",
       "    }\n",
       "</style>\n",
       "<table border=\"1\" class=\"dataframe\">\n",
       "  <thead>\n",
       "    <tr style=\"text-align: right;\">\n",
       "      <th></th>\n",
       "      <th>country</th>\n",
       "      <th>division_state</th>\n",
       "      <th>resident_nov_2018</th>\n",
       "      <th>resident_nov_2017</th>\n",
       "      <th>comm_nov_2018</th>\n",
       "      <th>comm_nov_2017</th>\n",
       "      <th>indust_nov_2018</th>\n",
       "      <th>indust_nov_2017</th>\n",
       "      <th>trans_nov_2018</th>\n",
       "      <th>trans_nov_2017</th>\n",
       "      <th>all_sect_nov_2018</th>\n",
       "      <th>all_sect_nov_2017</th>\n",
       "    </tr>\n",
       "  </thead>\n",
       "  <tbody>\n",
       "    <tr>\n",
       "      <th>3</th>\n",
       "      <td>United States</td>\n",
       "      <td>New England</td>\n",
       "      <td>43,722</td>\n",
       "      <td>41,436</td>\n",
       "      <td>48,097</td>\n",
       "      <td>47,818</td>\n",
       "      <td>14,751</td>\n",
       "      <td>15,508</td>\n",
       "      <td>520</td>\n",
       "      <td>502</td>\n",
       "      <td>107,090</td>\n",
       "      <td>105,264</td>\n",
       "    </tr>\n",
       "    <tr>\n",
       "      <th>4</th>\n",
       "      <td>United States</td>\n",
       "      <td>Connecticut</td>\n",
       "      <td>11,882</td>\n",
       "      <td>11,141</td>\n",
       "      <td>11,391</td>\n",
       "      <td>11,313</td>\n",
       "      <td>2,836</td>\n",
       "      <td>2,993</td>\n",
       "      <td>178</td>\n",
       "      <td>162</td>\n",
       "      <td>26,287</td>\n",
       "      <td>25,609</td>\n",
       "    </tr>\n",
       "    <tr>\n",
       "      <th>5</th>\n",
       "      <td>United States</td>\n",
       "      <td>Maine</td>\n",
       "      <td>4,240</td>\n",
       "      <td>4,217</td>\n",
       "      <td>3,674</td>\n",
       "      <td>3,623</td>\n",
       "      <td>2,576</td>\n",
       "      <td>2,456</td>\n",
       "      <td>0</td>\n",
       "      <td>0</td>\n",
       "      <td>10,490</td>\n",
       "      <td>10,296</td>\n",
       "    </tr>\n",
       "    <tr>\n",
       "      <th>6</th>\n",
       "      <td>United States</td>\n",
       "      <td>Massachusetts</td>\n",
       "      <td>18,604</td>\n",
       "      <td>17,528</td>\n",
       "      <td>23,723</td>\n",
       "      <td>23,759</td>\n",
       "      <td>5,594</td>\n",
       "      <td>6,287</td>\n",
       "      <td>317</td>\n",
       "      <td>315</td>\n",
       "      <td>48,238</td>\n",
       "      <td>47,888</td>\n",
       "    </tr>\n",
       "    <tr>\n",
       "      <th>7</th>\n",
       "      <td>United States</td>\n",
       "      <td>New Hampshire</td>\n",
       "      <td>4,203</td>\n",
       "      <td>3,998</td>\n",
       "      <td>4,067</td>\n",
       "      <td>4,012</td>\n",
       "      <td>1,800</td>\n",
       "      <td>1,806</td>\n",
       "      <td>0</td>\n",
       "      <td>0</td>\n",
       "      <td>10,069</td>\n",
       "      <td>9,817</td>\n",
       "    </tr>\n",
       "  </tbody>\n",
       "</table>\n",
       "</div>"
      ],
      "text/plain": [
       "         country division_state resident_nov_2018 resident_nov_2017  \\\n",
       "3  United States    New England            43,722            41,436   \n",
       "4  United States    Connecticut            11,882            11,141   \n",
       "5  United States          Maine             4,240             4,217   \n",
       "6  United States  Massachusetts            18,604            17,528   \n",
       "7  United States  New Hampshire             4,203             3,998   \n",
       "\n",
       "  comm_nov_2018 comm_nov_2017 indust_nov_2018 indust_nov_2017 trans_nov_2018  \\\n",
       "3        48,097        47,818          14,751          15,508            520   \n",
       "4        11,391        11,313           2,836           2,993            178   \n",
       "5         3,674         3,623           2,576           2,456              0   \n",
       "6        23,723        23,759           5,594           6,287            317   \n",
       "7         4,067         4,012           1,800           1,806              0   \n",
       "\n",
       "  trans_nov_2017 all_sect_nov_2018 all_sect_nov_2017  \n",
       "3            502           107,090           105,264  \n",
       "4            162            26,287            25,609  \n",
       "5              0            10,490            10,296  \n",
       "6            315            48,238            47,888  \n",
       "7              0            10,069             9,817  "
      ]
     },
     "execution_count": 96,
     "metadata": {},
     "output_type": "execute_result"
    }
   ],
   "source": [
    "new_df_electric = renamed_df_electric[['country', 'division_state', 'resident_nov_2018','resident_nov_2017', 'comm_nov_2018', 'comm_nov_2017', 'indust_nov_2018', 'indust_nov_2017', 'trans_nov_2018', 'trans_nov_2017', 'all_sect_nov_2018', 'all_sect_nov_2017']].iloc[3:]\n",
    "new_df_electric.head()"
   ]
  },
  {
   "cell_type": "code",
   "execution_count": 97,
   "metadata": {},
   "outputs": [],
   "source": [
    "# method to replace ',' with ''\n",
    "new_df_electric[['resident_nov_2018','resident_nov_2017', 'comm_nov_2018', 'comm_nov_2017', 'indust_nov_2018', 'indust_nov_2017', 'trans_nov_2018', 'trans_nov_2017', 'all_sect_nov_2018', 'all_sect_nov_2017']] = new_df_electric[['resident_nov_2018','resident_nov_2017', 'comm_nov_2018', 'comm_nov_2017', 'indust_nov_2018', 'indust_nov_2017', 'trans_nov_2018', 'trans_nov_2017', 'all_sect_nov_2018', 'all_sect_nov_2017']].apply(lambda x: x.str.replace(',',''))\n",
    "\n"
   ]
  },
  {
   "cell_type": "code",
   "execution_count": 98,
   "metadata": {},
   "outputs": [],
   "source": [
    "# convert to numeric\n",
    "new_df_electric[['resident_nov_2018','resident_nov_2017', 'comm_nov_2018', 'comm_nov_2017', 'indust_nov_2018', 'indust_nov_2017', 'trans_nov_2018', 'trans_nov_2017', 'all_sect_nov_2018', 'all_sect_nov_2017']] = new_df_electric[['resident_nov_2018','resident_nov_2017', 'comm_nov_2018', 'comm_nov_2017', 'indust_nov_2018', 'indust_nov_2017', 'trans_nov_2018', 'trans_nov_2017', 'all_sect_nov_2018', 'all_sect_nov_2017']].apply(pd.to_numeric)\n"
   ]
  },
  {
   "cell_type": "code",
   "execution_count": 105,
   "metadata": {},
   "outputs": [],
   "source": [
    "new_df_electric = new_df_electric.dropna()\n"
   ]
  },
  {
   "cell_type": "code",
   "execution_count": 107,
   "metadata": {},
   "outputs": [],
   "source": [
    "new_df_electric.to_sql(name='us_state_electric', con=engine, if_exists='append', index=False)"
   ]
  },
  {
   "cell_type": "markdown",
   "metadata": {},
   "source": [
    "<strong>Natural Gas: </strong>"
   ]
  },
  {
   "cell_type": "code",
   "execution_count": null,
   "metadata": {},
   "outputs": [],
   "source": [
    "csv_file1 = \"Resources/UNdata_Export_NaturalGasConsumption.csv\"\n",
    "Natural_Gas_Consumption_UN_df = pd.read_csv(csv_file1)\n",
    "Natural_Gas_Consumption_UN_df.head()"
   ]
  },
  {
   "cell_type": "code",
   "execution_count": null,
   "metadata": {},
   "outputs": [],
   "source": [
    "natural_gas_country_list = list_countries_un(Natural_Gas_Consumption_UN_df)\n",
    "natural_gas_country_list.count()"
   ]
  },
  {
   "cell_type": "code",
   "execution_count": null,
   "metadata": {},
   "outputs": [],
   "source": [
    "natural_gas_country_list.to_sql('country', con=engine, if_exists='append', index=False)"
   ]
  },
  {
   "cell_type": "code",
   "execution_count": null,
   "metadata": {},
   "outputs": [],
   "source": [
    "#Drop Column 'Quantity Footnotes'\n",
    "Natural_Gas_Consumption_UN_df.drop(Natural_Gas_Consumption_UN_df.columns[[5]], axis=1, inplace=True)\n",
    "Natural_Gas_Consumption_UN_df.head()"
   ]
  },
  {
   "cell_type": "code",
   "execution_count": null,
   "metadata": {},
   "outputs": [],
   "source": [
    "#Rename columns\n",
    "Natural_Gas_Consumption_UN_df.columns = ['Country', 'Commodity_Transaction', 'Year', 'Unit', 'Quantity']\n",
    "Natural_Gas_Consumption_UN_df.head()"
   ]
  },
  {
   "cell_type": "code",
   "execution_count": null,
   "metadata": {},
   "outputs": [],
   "source": [
    "engine.table_names()"
   ]
  },
  {
   "cell_type": "code",
   "execution_count": null,
   "metadata": {},
   "outputs": [],
   "source": [
    "Natural_Gas_Consumption_UN_df.to_sql(name='EnergyConsumptionUN', con=engine, if_exists='append', index=False)"
   ]
  },
  {
   "cell_type": "code",
   "execution_count": null,
   "metadata": {},
   "outputs": [],
   "source": [
    "csv_file1 = \"Resources/Total_consumption_Natural_Gas_EIA2.csv\"\n",
    "Natural_Gas_Consumption_EIA_df = pd.read_csv(csv_file1)\n",
    "Natural_Gas_Consumption_EIA_df.head()"
   ]
  },
  {
   "cell_type": "code",
   "execution_count": null,
   "metadata": {},
   "outputs": [],
   "source": [
    "#Delete Country = Production rows\n",
    "Natural_Gas_Consumption_EIA_df = Natural_Gas_Consumption_EIA_df.dropna()\n",
    "Natural_Gas_Consumption_EIA_df.head()"
   ]
  },
  {
   "cell_type": "code",
   "execution_count": null,
   "metadata": {},
   "outputs": [],
   "source": [
    "Natural_Gas_Consumption_EIA_df.columns = ['Year_' + str(col) for col in Natural_Gas_Consumption_EIA_df.columns]\n",
    "Natural_Gas_Consumption_EIA_df.head()"
   ]
  },
  {
   "cell_type": "code",
   "execution_count": null,
   "metadata": {},
   "outputs": [],
   "source": [
    "engine.table_names()"
   ]
  },
  {
   "cell_type": "code",
   "execution_count": null,
   "metadata": {},
   "outputs": [],
   "source": [
    "#Use pandas to load csv concerted to dataFrame into database\n",
    "Natural_Gas_Consumption_EIA_df.to_sql(name='EnergyConsumptionEIA', con=engine, if_exists='append', index=False)"
   ]
  }
 ],
 "metadata": {
  "kernelspec": {
   "display_name": "Python 3",
   "language": "python",
   "name": "python3"
  },
  "language_info": {
   "codemirror_mode": {
    "name": "ipython",
    "version": 3
   },
   "file_extension": ".py",
   "mimetype": "text/x-python",
   "name": "python",
   "nbconvert_exporter": "python",
   "pygments_lexer": "ipython3",
   "version": "3.6.5"
  }
 },
 "nbformat": 4,
 "nbformat_minor": 2
}
